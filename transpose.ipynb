{
 "cells": [
  {
   "cell_type": "code",
   "execution_count": 1,
   "metadata": {},
   "outputs": [],
   "source": [
    "import numpy as np\n",
    "a = np.array([[42,428,100,100,24,4,4,10],\n",
    "[-196,429,100,100,36,4,4,10],\n",
    "[134,374,100,100,23,4,4,10],\n",
    "[-130,449,100,100,21,4,4,10],\n",
    "[-144,557,100,100,33,4,4,10],\n",
    "[146,366,100,100,70,4,4,10],\n",
    "[6,571,100,100,70,4,4,10],\n",
    "[167,584,100,100,70,4,4,10],\n",
    "[-130,534,100,100,70,4,4,10],\n",
    "[34,597,100,100,70,4,4,10]]\n",
    ")"
   ]
  },
  {
   "cell_type": "code",
   "execution_count": 2,
   "metadata": {},
   "outputs": [
    {
     "data": {
      "text/plain": [
       "array([[  42, -196,  134, -130, -144,  146,    6,  167, -130,   34],\n",
       "       [ 428,  429,  374,  449,  557,  366,  571,  584,  534,  597],\n",
       "       [ 100,  100,  100,  100,  100,  100,  100,  100,  100,  100],\n",
       "       [ 100,  100,  100,  100,  100,  100,  100,  100,  100,  100],\n",
       "       [  24,   36,   23,   21,   33,   70,   70,   70,   70,   70],\n",
       "       [   4,    4,    4,    4,    4,    4,    4,    4,    4,    4],\n",
       "       [   4,    4,    4,    4,    4,    4,    4,    4,    4,    4],\n",
       "       [  10,   10,   10,   10,   10,   10,   10,   10,   10,   10]])"
      ]
     },
     "execution_count": 2,
     "metadata": {},
     "output_type": "execute_result"
    }
   ],
   "source": [
    "np.transpose(a)"
   ]
  },
  {
   "cell_type": "code",
   "execution_count": 8,
   "metadata": {},
   "outputs": [
    {
     "name": "stdout",
     "output_type": "stream",
     "text": [
      "{ \n",
      "{42, -196, 134, -130, -144, 146, 6, 167, -130, 34}, \n",
      "{428, 429, 374, 449, 557, 366, 571, 584, 534, 597}, \n",
      "{100, 100, 100, 100, 100, 100, 100, 100, 100, 100}, \n",
      "{100, 100, 100, 100, 100, 100, 100, 100, 100, 100}, \n",
      "{24, 36, 23, 21, 33, 70, 70, 70, 70, 70}, \n",
      "{4, 4, 4, 4, 4, 4, 4, 4, 4, 4}, \n",
      "{4, 4, 4, 4, 4, 4, 4, 4, 4, 4}, \n",
      "}\n"
     ]
    }
   ],
   "source": [
    "def aryStringConv(ary):\n",
    "    temp = \"{ \\n\"\n",
    "    for i in range(len(ary)-1):\n",
    "        temp += \"{\"\n",
    "        for j in range (len(ary[0])-1):\n",
    "            temp += str(ary[i][j])\n",
    "            temp += \", \"\n",
    "        temp += str(ary[i][len(ary[0])-1])\n",
    "        temp += \"}, \\n\"\n",
    "    temp += \"}\"\n",
    "    return temp\n",
    "\n",
    "print(aryStringConv(np.transpose(a)))"
   ]
  },
  {
   "cell_type": "code",
   "execution_count": null,
   "metadata": {},
   "outputs": [],
   "source": []
  }
 ],
 "metadata": {
  "kernelspec": {
   "display_name": "Python 3.10.7 64-bit",
   "language": "python",
   "name": "python3"
  },
  "language_info": {
   "codemirror_mode": {
    "name": "ipython",
    "version": 3
   },
   "file_extension": ".py",
   "mimetype": "text/x-python",
   "name": "python",
   "nbconvert_exporter": "python",
   "pygments_lexer": "ipython3",
   "version": "3.10.7"
  },
  "orig_nbformat": 4,
  "vscode": {
   "interpreter": {
    "hash": "15f7fb6bfa40f6d98bec429272306fda6b1744d745c4cccbf28593f1f78abeba"
   }
  }
 },
 "nbformat": 4,
 "nbformat_minor": 2
}
